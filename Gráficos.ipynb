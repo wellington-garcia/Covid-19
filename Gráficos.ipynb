{
 "cells": [
  {
   "cell_type": "code",
   "execution_count": 22,
   "id": "276ba8da",
   "metadata": {},
   "outputs": [],
   "source": [
    "import pandas as pd\n",
    "import matplotlib.pyplot as plt\n",
    "import seaborn as sns\n",
    "from glob import glob\n",
    "%matplotlib inline "
   ]
  },
  {
   "cell_type": "markdown",
   "id": "8d63d8e5",
   "metadata": {},
   "source": [
    "# Carregando dados"
   ]
  },
  {
   "cell_type": "code",
   "execution_count": 24,
   "id": "ed986195",
   "metadata": {},
   "outputs": [],
   "source": [
    "arquivos = glob('./dados/2020/*.csv')"
   ]
  },
  {
   "cell_type": "code",
   "execution_count": 25,
   "id": "30c55ad6",
   "metadata": {},
   "outputs": [
    {
     "data": {
      "text/plain": [
       "['./dados/2020\\\\aracaju_2020.csv',\n",
       " './dados/2020\\\\fortaleza_2020.csv',\n",
       " './dados/2020\\\\joao_pessoa_2020.csv',\n",
       " './dados/2020\\\\maceio_2020.csv',\n",
       " './dados/2020\\\\natal_2020.csv',\n",
       " './dados/2020\\\\recife_2020.csv',\n",
       " './dados/2020\\\\salvador_2020.csv',\n",
       " './dados/2020\\\\sao_luis_2020.csv',\n",
       " './dados/2020\\\\teresina_2020.csv']"
      ]
     },
     "execution_count": 25,
     "metadata": {},
     "output_type": "execute_result"
    }
   ],
   "source": [
    "arquivos"
   ]
  },
  {
   "cell_type": "code",
   "execution_count": 50,
   "id": "b6348e05",
   "metadata": {},
   "outputs": [],
   "source": [
    "capitais = pd.concat(pd.read_csv(cont, sep= ';') for cont in arquivos)"
   ]
  },
  {
   "cell_type": "code",
   "execution_count": 51,
   "id": "ac56170a",
   "metadata": {},
   "outputs": [
    {
     "data": {
      "text/html": [
       "<div>\n",
       "<style scoped>\n",
       "    .dataframe tbody tr th:only-of-type {\n",
       "        vertical-align: middle;\n",
       "    }\n",
       "\n",
       "    .dataframe tbody tr th {\n",
       "        vertical-align: top;\n",
       "    }\n",
       "\n",
       "    .dataframe thead th {\n",
       "        text-align: right;\n",
       "    }\n",
       "</style>\n",
       "<table border=\"1\" class=\"dataframe\">\n",
       "  <thead>\n",
       "    <tr style=\"text-align: right;\">\n",
       "      <th></th>\n",
       "      <th>semanaEpi</th>\n",
       "      <th>casosAcumulado</th>\n",
       "      <th>casosNovos</th>\n",
       "      <th>obitosAcumulado</th>\n",
       "      <th>obitosNovos</th>\n",
       "      <th>Recuperadosnovos</th>\n",
       "      <th>emAcompanhamentoNovos</th>\n",
       "    </tr>\n",
       "  </thead>\n",
       "  <tbody>\n",
       "    <tr>\n",
       "      <th>0</th>\n",
       "      <td>13</td>\n",
       "      <td>13</td>\n",
       "      <td>13</td>\n",
       "      <td>0</td>\n",
       "      <td>0</td>\n",
       "      <td>0.0</td>\n",
       "      <td>0.0</td>\n",
       "    </tr>\n",
       "    <tr>\n",
       "      <th>1</th>\n",
       "      <td>14</td>\n",
       "      <td>123</td>\n",
       "      <td>10</td>\n",
       "      <td>6</td>\n",
       "      <td>2</td>\n",
       "      <td>0.0</td>\n",
       "      <td>0.0</td>\n",
       "    </tr>\n",
       "    <tr>\n",
       "      <th>2</th>\n",
       "      <td>15</td>\n",
       "      <td>212</td>\n",
       "      <td>10</td>\n",
       "      <td>27</td>\n",
       "      <td>2</td>\n",
       "      <td>0.0</td>\n",
       "      <td>0.0</td>\n",
       "    </tr>\n",
       "    <tr>\n",
       "      <th>3</th>\n",
       "      <td>16</td>\n",
       "      <td>272</td>\n",
       "      <td>19</td>\n",
       "      <td>28</td>\n",
       "      <td>0</td>\n",
       "      <td>0.0</td>\n",
       "      <td>0.0</td>\n",
       "    </tr>\n",
       "    <tr>\n",
       "      <th>4</th>\n",
       "      <td>17</td>\n",
       "      <td>517</td>\n",
       "      <td>46</td>\n",
       "      <td>33</td>\n",
       "      <td>2</td>\n",
       "      <td>0.0</td>\n",
       "      <td>0.0</td>\n",
       "    </tr>\n",
       "    <tr>\n",
       "      <th>...</th>\n",
       "      <td>...</td>\n",
       "      <td>...</td>\n",
       "      <td>...</td>\n",
       "      <td>...</td>\n",
       "      <td>...</td>\n",
       "      <td>...</td>\n",
       "      <td>...</td>\n",
       "    </tr>\n",
       "    <tr>\n",
       "      <th>36</th>\n",
       "      <td>49</td>\n",
       "      <td>304546</td>\n",
       "      <td>2074</td>\n",
       "      <td>8171</td>\n",
       "      <td>13</td>\n",
       "      <td>0.0</td>\n",
       "      <td>0.0</td>\n",
       "    </tr>\n",
       "    <tr>\n",
       "      <th>37</th>\n",
       "      <td>50</td>\n",
       "      <td>316674</td>\n",
       "      <td>1524</td>\n",
       "      <td>8267</td>\n",
       "      <td>13</td>\n",
       "      <td>0.0</td>\n",
       "      <td>0.0</td>\n",
       "    </tr>\n",
       "    <tr>\n",
       "      <th>38</th>\n",
       "      <td>51</td>\n",
       "      <td>325989</td>\n",
       "      <td>1310</td>\n",
       "      <td>8332</td>\n",
       "      <td>7</td>\n",
       "      <td>0.0</td>\n",
       "      <td>0.0</td>\n",
       "    </tr>\n",
       "    <tr>\n",
       "      <th>39</th>\n",
       "      <td>52</td>\n",
       "      <td>335052</td>\n",
       "      <td>1190</td>\n",
       "      <td>8398</td>\n",
       "      <td>11</td>\n",
       "      <td>0.0</td>\n",
       "      <td>0.0</td>\n",
       "    </tr>\n",
       "    <tr>\n",
       "      <th>40</th>\n",
       "      <td>53</td>\n",
       "      <td>245288</td>\n",
       "      <td>1325</td>\n",
       "      <td>6048</td>\n",
       "      <td>11</td>\n",
       "      <td>0.0</td>\n",
       "      <td>0.0</td>\n",
       "    </tr>\n",
       "  </tbody>\n",
       "</table>\n",
       "<p>369 rows × 7 columns</p>\n",
       "</div>"
      ],
      "text/plain": [
       "    semanaEpi  casosAcumulado  casosNovos  obitosAcumulado  obitosNovos  \\\n",
       "0          13              13          13                0            0   \n",
       "1          14             123          10                6            2   \n",
       "2          15             212          10               27            2   \n",
       "3          16             272          19               28            0   \n",
       "4          17             517          46               33            2   \n",
       "..        ...             ...         ...              ...          ...   \n",
       "36         49          304546        2074             8171           13   \n",
       "37         50          316674        1524             8267           13   \n",
       "38         51          325989        1310             8332            7   \n",
       "39         52          335052        1190             8398           11   \n",
       "40         53          245288        1325             6048           11   \n",
       "\n",
       "    Recuperadosnovos  emAcompanhamentoNovos  \n",
       "0                0.0                    0.0  \n",
       "1                0.0                    0.0  \n",
       "2                0.0                    0.0  \n",
       "3                0.0                    0.0  \n",
       "4                0.0                    0.0  \n",
       "..               ...                    ...  \n",
       "36               0.0                    0.0  \n",
       "37               0.0                    0.0  \n",
       "38               0.0                    0.0  \n",
       "39               0.0                    0.0  \n",
       "40               0.0                    0.0  \n",
       "\n",
       "[369 rows x 7 columns]"
      ]
     },
     "execution_count": 51,
     "metadata": {},
     "output_type": "execute_result"
    }
   ],
   "source": [
    "capitais"
   ]
  },
  {
   "cell_type": "markdown",
   "id": "565e73d0",
   "metadata": {},
   "source": [
    "# Distribuição total de casos 2020"
   ]
  },
  {
   "cell_type": "code",
   "execution_count": 179,
   "id": "d8783508",
   "metadata": {},
   "outputs": [],
   "source": [
    "labels = ['Aracaju', 'Fortaleza', 'João Pessoa', 'Maceió', 'Natal', 'Recife', 'Salvador', 'São Luís', 'Teresina']"
   ]
  },
  {
   "cell_type": "code",
   "execution_count": 180,
   "id": "968981eb",
   "metadata": {},
   "outputs": [],
   "source": [
    "casos_totais = capitais.loc[capitais['semanaEpi'] == 52]\n",
    "casos_totais.insert(7, 'PopulacaoTotal', [657013, 2669342, 809015, 1018948, 884122, 1645727, 2872347, 1101884, 864845])\n",
    "casos_totais.insert(0, 'Cidade', labels, True)\n"
   ]
  },
  {
   "cell_type": "code",
   "execution_count": 213,
   "id": "62c1ec1e",
   "metadata": {},
   "outputs": [
    {
     "data": {
      "text/html": [
       "<div>\n",
       "<style scoped>\n",
       "    .dataframe tbody tr th:only-of-type {\n",
       "        vertical-align: middle;\n",
       "    }\n",
       "\n",
       "    .dataframe tbody tr th {\n",
       "        vertical-align: top;\n",
       "    }\n",
       "\n",
       "    .dataframe thead th {\n",
       "        text-align: right;\n",
       "    }\n",
       "</style>\n",
       "<table border=\"1\" class=\"dataframe\">\n",
       "  <thead>\n",
       "    <tr style=\"text-align: right;\">\n",
       "      <th></th>\n",
       "      <th>index</th>\n",
       "      <th>Cidade</th>\n",
       "      <th>semanaEpi</th>\n",
       "      <th>casosAcumulado</th>\n",
       "      <th>casosNovos</th>\n",
       "      <th>obitosAcumulado</th>\n",
       "      <th>obitosNovos</th>\n",
       "      <th>Recuperadosnovos</th>\n",
       "      <th>emAcompanhamentoNovos</th>\n",
       "      <th>PopulacaoTotal</th>\n",
       "    </tr>\n",
       "  </thead>\n",
       "  <tbody>\n",
       "    <tr>\n",
       "      <th>0</th>\n",
       "      <td>39</td>\n",
       "      <td>Aracaju</td>\n",
       "      <td>52</td>\n",
       "      <td>360984</td>\n",
       "      <td>3051</td>\n",
       "      <td>6151</td>\n",
       "      <td>12</td>\n",
       "      <td>0.0</td>\n",
       "      <td>0.0</td>\n",
       "      <td>657013</td>\n",
       "    </tr>\n",
       "    <tr>\n",
       "      <th>1</th>\n",
       "      <td>39</td>\n",
       "      <td>Fortaleza</td>\n",
       "      <td>52</td>\n",
       "      <td>546920</td>\n",
       "      <td>1533</td>\n",
       "      <td>28989</td>\n",
       "      <td>15</td>\n",
       "      <td>0.0</td>\n",
       "      <td>0.0</td>\n",
       "      <td>2669342</td>\n",
       "    </tr>\n",
       "    <tr>\n",
       "      <th>2</th>\n",
       "      <td>39</td>\n",
       "      <td>João Pessoa</td>\n",
       "      <td>52</td>\n",
       "      <td>231498</td>\n",
       "      <td>1349</td>\n",
       "      <td>8212</td>\n",
       "      <td>27</td>\n",
       "      <td>0.0</td>\n",
       "      <td>0.0</td>\n",
       "      <td>809015</td>\n",
       "    </tr>\n",
       "    <tr>\n",
       "      <th>3</th>\n",
       "      <td>39</td>\n",
       "      <td>Maceió</td>\n",
       "      <td>52</td>\n",
       "      <td>243366</td>\n",
       "      <td>1131</td>\n",
       "      <td>7430</td>\n",
       "      <td>23</td>\n",
       "      <td>0.0</td>\n",
       "      <td>0.0</td>\n",
       "      <td>1018948</td>\n",
       "    </tr>\n",
       "    <tr>\n",
       "      <th>4</th>\n",
       "      <td>39</td>\n",
       "      <td>Natal</td>\n",
       "      <td>52</td>\n",
       "      <td>231498</td>\n",
       "      <td>1349</td>\n",
       "      <td>8212</td>\n",
       "      <td>27</td>\n",
       "      <td>0.0</td>\n",
       "      <td>0.0</td>\n",
       "      <td>884122</td>\n",
       "    </tr>\n",
       "    <tr>\n",
       "      <th>5</th>\n",
       "      <td>39</td>\n",
       "      <td>Recife</td>\n",
       "      <td>52</td>\n",
       "      <td>331498</td>\n",
       "      <td>2165</td>\n",
       "      <td>18592</td>\n",
       "      <td>40</td>\n",
       "      <td>0.0</td>\n",
       "      <td>0.0</td>\n",
       "      <td>1645727</td>\n",
       "    </tr>\n",
       "    <tr>\n",
       "      <th>6</th>\n",
       "      <td>39</td>\n",
       "      <td>Salvador</td>\n",
       "      <td>52</td>\n",
       "      <td>749099</td>\n",
       "      <td>2242</td>\n",
       "      <td>21988</td>\n",
       "      <td>31</td>\n",
       "      <td>0.0</td>\n",
       "      <td>0.0</td>\n",
       "      <td>2872347</td>\n",
       "    </tr>\n",
       "    <tr>\n",
       "      <th>7</th>\n",
       "      <td>39</td>\n",
       "      <td>São Luís</td>\n",
       "      <td>52</td>\n",
       "      <td>183780</td>\n",
       "      <td>222</td>\n",
       "      <td>9060</td>\n",
       "      <td>5</td>\n",
       "      <td>0.0</td>\n",
       "      <td>0.0</td>\n",
       "      <td>1101884</td>\n",
       "    </tr>\n",
       "    <tr>\n",
       "      <th>8</th>\n",
       "      <td>39</td>\n",
       "      <td>Teresina</td>\n",
       "      <td>52</td>\n",
       "      <td>335052</td>\n",
       "      <td>1190</td>\n",
       "      <td>8398</td>\n",
       "      <td>11</td>\n",
       "      <td>0.0</td>\n",
       "      <td>0.0</td>\n",
       "      <td>864845</td>\n",
       "    </tr>\n",
       "  </tbody>\n",
       "</table>\n",
       "</div>"
      ],
      "text/plain": [
       "   index       Cidade  semanaEpi  casosAcumulado  casosNovos  obitosAcumulado  \\\n",
       "0     39      Aracaju         52          360984        3051             6151   \n",
       "1     39    Fortaleza         52          546920        1533            28989   \n",
       "2     39  João Pessoa         52          231498        1349             8212   \n",
       "3     39       Maceió         52          243366        1131             7430   \n",
       "4     39        Natal         52          231498        1349             8212   \n",
       "5     39       Recife         52          331498        2165            18592   \n",
       "6     39     Salvador         52          749099        2242            21988   \n",
       "7     39     São Luís         52          183780         222             9060   \n",
       "8     39     Teresina         52          335052        1190             8398   \n",
       "\n",
       "   obitosNovos  Recuperadosnovos  emAcompanhamentoNovos  PopulacaoTotal  \n",
       "0           12               0.0                    0.0          657013  \n",
       "1           15               0.0                    0.0         2669342  \n",
       "2           27               0.0                    0.0          809015  \n",
       "3           23               0.0                    0.0         1018948  \n",
       "4           27               0.0                    0.0          884122  \n",
       "5           40               0.0                    0.0         1645727  \n",
       "6           31               0.0                    0.0         2872347  \n",
       "7            5               0.0                    0.0         1101884  \n",
       "8           11               0.0                    0.0          864845  "
      ]
     },
     "execution_count": 213,
     "metadata": {},
     "output_type": "execute_result"
    }
   ],
   "source": [
    "casos_totais.reset_index()\n"
   ]
  },
  {
   "cell_type": "markdown",
   "id": "56b85abb",
   "metadata": {},
   "source": [
    "# Contaminados 2020"
   ]
  },
  {
   "cell_type": "code",
   "execution_count": 111,
   "id": "4192e38b",
   "metadata": {},
   "outputs": [
    {
     "data": {
      "image/png": "[encoded data removed]",
      "text/plain": [
       "<Figure size 864x576 with 1 Axes>"
      ]
     },
     "metadata": {
      "needs_background": "light"
     },
     "output_type": "display_data"
    }
   ],
   "source": [
    "contaminados = casos_totais.sort_values('casosAcumulado')\n",
    "fig, ax = plt.subplots(figsize = (12, 8))\n",
    "plot = sns.barplot(x= 'Cidade', y= 'casosAcumulado', data= contaminados)\n",
    "\n",
    "for i in plot.patches:\n",
    "    plot.annotate(i.get_height(),\n",
    "                  (i.get_x() + i.get_width() / 2, i.get_height()), ha = 'center', \n",
    "                  va= 'baseline', fontsize= 12, color= 'black', xytext=(0, 1),\n",
    "                 textcoords= 'offset points')\n",
    "\n",
    "ax.set_xlabel( \"Cidade\" , size = 15 ) \n",
    "ax.set_ylabel( \"Casos Acumulados\" , size = 15 ) \n",
    "ax.set_title( \"Total de Contamidados 2020\" , size = 24 ) \n",
    "plt.show() "
   ]
  },
  {
   "cell_type": "markdown",
   "id": "50b37413",
   "metadata": {},
   "source": [
    "# Óbitos 2020"
   ]
  },
  {
   "cell_type": "code",
   "execution_count": 155,
   "id": "6e2facf8",
   "metadata": {},
   "outputs": [
    {
     "data": {
      "image/png": "[encoded data removed]",
      "text/plain": [
       "<Figure size 864x576 with 1 Axes>"
      ]
     },
     "metadata": {
      "needs_background": "light"
     },
     "output_type": "display_data"
    }
   ],
   "source": [
    "obitos_totais = casos_totais.sort_values('obitosAcumulado')\n",
    "fig, ax = plt.subplots(figsize = (12, 8))\n",
    "plot = sns.barplot(x= 'Cidade', y= 'obitosAcumulado', data= obitos_totais)\n",
    "\n",
    "for i in plot.patches:\n",
    "    plot.annotate(i.get_height(),\n",
    "                  (i.get_x() + i.get_width() / 2, i.get_height()), ha = 'center', \n",
    "                  va= 'baseline', fontsize= 12, color= 'black', xytext=(0, 1),\n",
    "                 textcoords= 'offset points')\n",
    "\n",
    "    ax.set_xlabel( \"Cidade\" , size = 15 ) \n",
    "ax.set_ylabel( \"Óbitos Acumulados\" , size = 15 ) \n",
    "ax.set_title( \"Total de Óbitos 2020\" , size = 24 ) \n",
    "plt.show() "
   ]
  },
  {
   "cell_type": "markdown",
   "id": "63418434",
   "metadata": {},
   "source": [
    "# Taxa de mortalidade por 100.000 habitantes"
   ]
  },
  {
   "cell_type": "code",
   "execution_count": 208,
   "id": "239bfc31",
   "metadata": {},
   "outputs": [],
   "source": [
    "mortalidade = casos_totais[['Cidade', 'PopulacaoTotal', 'obitosAcumulado']]"
   ]
  },
  {
   "cell_type": "code",
   "execution_count": 209,
   "id": "beec4dd9",
   "metadata": {},
   "outputs": [],
   "source": [
    "casos = round(mortalidade.obitosAcumulado * 1000 / mortalidade.PopulacaoTotal, 2)"
   ]
  },
  {
   "cell_type": "code",
   "execution_count": 210,
   "id": "04c01671",
   "metadata": {},
   "outputs": [
    {
     "name": "stderr",
     "output_type": "stream",
     "text": [
      "C:\\Users\\welli\\AppData\\Local\\Temp/ipykernel_14808/2896941480.py:1: SettingWithCopyWarning: \n",
      "A value is trying to be set on a copy of a slice from a DataFrame.\n",
      "Try using .loc[row_indexer,col_indexer] = value instead\n",
      "\n",
      "See the caveats in the documentation: https://pandas.pydata.org/pandas-docs/stable/user_guide/indexing.html#returning-a-view-versus-a-copy\n",
      "  mortalidade['Mortalidade %'] = casos\n"
     ]
    }
   ],
   "source": [
    "mortalidade['Mortalidade %'] = casos"
   ]
  },
  {
   "cell_type": "code",
   "execution_count": 215,
   "id": "664d974f",
   "metadata": {},
   "outputs": [
    {
     "data": {
      "text/html": [
       "<div>\n",
       "<style scoped>\n",
       "    .dataframe tbody tr th:only-of-type {\n",
       "        vertical-align: middle;\n",
       "    }\n",
       "\n",
       "    .dataframe tbody tr th {\n",
       "        vertical-align: top;\n",
       "    }\n",
       "\n",
       "    .dataframe thead th {\n",
       "        text-align: right;\n",
       "    }\n",
       "</style>\n",
       "<table border=\"1\" class=\"dataframe\">\n",
       "  <thead>\n",
       "    <tr style=\"text-align: right;\">\n",
       "      <th></th>\n",
       "      <th>Cidade</th>\n",
       "      <th>PopulacaoTotal</th>\n",
       "      <th>obitosAcumulado</th>\n",
       "      <th>Mortalidade %</th>\n",
       "    </tr>\n",
       "  </thead>\n",
       "  <tbody>\n",
       "    <tr>\n",
       "      <th>39</th>\n",
       "      <td>Aracaju</td>\n",
       "      <td>657013</td>\n",
       "      <td>6151</td>\n",
       "      <td>9.36</td>\n",
       "    </tr>\n",
       "    <tr>\n",
       "      <th>39</th>\n",
       "      <td>Fortaleza</td>\n",
       "      <td>2669342</td>\n",
       "      <td>28989</td>\n",
       "      <td>10.86</td>\n",
       "    </tr>\n",
       "    <tr>\n",
       "      <th>39</th>\n",
       "      <td>João Pessoa</td>\n",
       "      <td>809015</td>\n",
       "      <td>8212</td>\n",
       "      <td>10.15</td>\n",
       "    </tr>\n",
       "    <tr>\n",
       "      <th>39</th>\n",
       "      <td>Maceió</td>\n",
       "      <td>1018948</td>\n",
       "      <td>7430</td>\n",
       "      <td>7.29</td>\n",
       "    </tr>\n",
       "    <tr>\n",
       "      <th>39</th>\n",
       "      <td>Natal</td>\n",
       "      <td>884122</td>\n",
       "      <td>8212</td>\n",
       "      <td>9.29</td>\n",
       "    </tr>\n",
       "    <tr>\n",
       "      <th>39</th>\n",
       "      <td>Recife</td>\n",
       "      <td>1645727</td>\n",
       "      <td>18592</td>\n",
       "      <td>11.30</td>\n",
       "    </tr>\n",
       "    <tr>\n",
       "      <th>39</th>\n",
       "      <td>Salvador</td>\n",
       "      <td>2872347</td>\n",
       "      <td>21988</td>\n",
       "      <td>7.66</td>\n",
       "    </tr>\n",
       "    <tr>\n",
       "      <th>39</th>\n",
       "      <td>São Luís</td>\n",
       "      <td>1101884</td>\n",
       "      <td>9060</td>\n",
       "      <td>8.22</td>\n",
       "    </tr>\n",
       "    <tr>\n",
       "      <th>39</th>\n",
       "      <td>Teresina</td>\n",
       "      <td>864845</td>\n",
       "      <td>8398</td>\n",
       "      <td>9.71</td>\n",
       "    </tr>\n",
       "  </tbody>\n",
       "</table>\n",
       "</div>"
      ],
      "text/plain": [
       "         Cidade  PopulacaoTotal  obitosAcumulado  Mortalidade %\n",
       "39      Aracaju          657013             6151           9.36\n",
       "39    Fortaleza         2669342            28989          10.86\n",
       "39  João Pessoa          809015             8212          10.15\n",
       "39       Maceió         1018948             7430           7.29\n",
       "39        Natal          884122             8212           9.29\n",
       "39       Recife         1645727            18592          11.30\n",
       "39     Salvador         2872347            21988           7.66\n",
       "39     São Luís         1101884             9060           8.22\n",
       "39     Teresina          864845             8398           9.71"
      ]
     },
     "execution_count": 215,
     "metadata": {},
     "output_type": "execute_result"
    }
   ],
   "source": [
    "mortalidade"
   ]
  },
  {
   "cell_type": "markdown",
   "id": "6d3ad10d",
   "metadata": {},
   "source": [
    "# Coeficiente de incidência"
   ]
  },
  {
   "cell_type": "code",
   "execution_count": null,
   "id": "fb6899d7",
   "metadata": {},
   "outputs": [],
   "source": []
  }
 ],
 "metadata": {
  "kernelspec": {
   "display_name": "Python 3 (ipykernel)",
   "language": "python",
   "name": "python3"
  },
  "language_info": {
   "codemirror_mode": {
    "name": "ipython",
    "version": 3
   },
   "file_extension": ".py",
   "mimetype": "text/x-python",
   "name": "python",
   "nbconvert_exporter": "python",
   "pygments_lexer": "ipython3",
   "version": "3.9.7"
  }
 },
 "nbformat": 4,
 "nbformat_minor": 5
}
